{
  "nbformat": 4,
  "nbformat_minor": 0,
  "metadata": {
    "colab": {
      "name": "Sepsis Using CNN KFOLD.ipynb",
      "provenance": []
    },
    "kernelspec": {
      "name": "python3",
      "display_name": "Python 3"
    }
  },
  "cells": [
    {
      "cell_type": "markdown",
      "metadata": {
        "id": "FYv9Uwu4mSkM",
        "colab_type": "text"
      },
      "source": [
        "# **CNN Model For Early Detection of Sepsis Using KFOLD**"
      ]
    },
    {
      "cell_type": "markdown",
      "metadata": {
        "id": "9zHGbRPymkrY",
        "colab_type": "text"
      },
      "source": [
        "**Mounting Drive to the Content Folder**"
      ]
    },
    {
      "cell_type": "code",
      "metadata": {
        "id": "LliQi1X7nCyl",
        "colab_type": "code",
        "outputId": "cf27e56c-a935-4dea-b217-60cdea1086e0",
        "colab": {
          "base_uri": "https://localhost:8080/",
          "height": 124
        }
      },
      "source": [
        "from google.colab import drive\n",
        "drive.mount('/content/drive')"
      ],
      "execution_count": 1,
      "outputs": [
        {
          "output_type": "stream",
          "text": [
            "Go to this URL in a browser: https://accounts.google.com/o/oauth2/auth?client_id=947318989803-6bn6qk8qdgf4n4g3pfee6491hc0brc4i.apps.googleusercontent.com&redirect_uri=urn%3aietf%3awg%3aoauth%3a2.0%3aoob&response_type=code&scope=email%20https%3a%2f%2fwww.googleapis.com%2fauth%2fdocs.test%20https%3a%2f%2fwww.googleapis.com%2fauth%2fdrive%20https%3a%2f%2fwww.googleapis.com%2fauth%2fdrive.photos.readonly%20https%3a%2f%2fwww.googleapis.com%2fauth%2fpeopleapi.readonly\n",
            "\n",
            "Enter your authorization code:\n",
            "··········\n",
            "Mounted at /content/drive\n"
          ],
          "name": "stdout"
        }
      ]
    },
    {
      "cell_type": "code",
      "metadata": {
        "id": "xYUPh54yz5EZ",
        "colab_type": "code",
        "colab": {}
      },
      "source": [
        ""
      ],
      "execution_count": 0,
      "outputs": []
    },
    {
      "cell_type": "markdown",
      "metadata": {
        "id": "ghrqIH0unrpl",
        "colab_type": "text"
      },
      "source": [
        "**Import Required Libraries**"
      ]
    },
    {
      "cell_type": "code",
      "metadata": {
        "id": "LsB7xwwdnIMp",
        "colab_type": "code",
        "colab": {}
      },
      "source": [
        "#Importing Libraries\n",
        "import numpy as np\n",
        "import pandas as pd"
      ],
      "execution_count": 0,
      "outputs": []
    },
    {
      "cell_type": "markdown",
      "metadata": {
        "id": "bT04i6MLn6_H",
        "colab_type": "text"
      },
      "source": [
        "**Load the dataset \"Patient.csv\" from drive**"
      ]
    },
    {
      "cell_type": "code",
      "metadata": {
        "id": "ppcWZ_lln5O0",
        "colab_type": "code",
        "colab": {}
      },
      "source": [
        "dataset=pd.read_csv('/content/drive/My Drive/patient.csv')"
      ],
      "execution_count": 0,
      "outputs": []
    },
    {
      "cell_type": "markdown",
      "metadata": {
        "id": "ena-aMbsoXxh",
        "colab_type": "text"
      },
      "source": [
        "The dataset consists of clinical data of 40336 patients.\n",
        "For each patient hourly clinical data is given.\n",
        "The dataset is made each and patient Clinical data separated by Patient ID\n",
        "It consists of 42 Coloumns\n",
        "We need to predict whther the patient is diagnosed with sepsis i.e 'Sepsis Label'\n",
        "Sepsis Label is given as 0 for not diagnosed with \n",
        "\n",
        "1.   0 for not diagnosed with Sepsis\n",
        "2.   1 for diagnosed with Sepsis"
      ]
    },
    {
      "cell_type": "code",
      "metadata": {
        "id": "eAwxnL8JoHY0",
        "colab_type": "code",
        "outputId": "f8d13fe4-3557-4812-a3a7-1d1bfc89bcd8",
        "colab": {
          "base_uri": "https://localhost:8080/",
          "height": 222
        }
      },
      "source": [
        "#View The dataset\n",
        "dataset.head(5)"
      ],
      "execution_count": 4,
      "outputs": [
        {
          "output_type": "execute_result",
          "data": {
            "text/html": [
              "<div>\n",
              "<style scoped>\n",
              "    .dataframe tbody tr th:only-of-type {\n",
              "        vertical-align: middle;\n",
              "    }\n",
              "\n",
              "    .dataframe tbody tr th {\n",
              "        vertical-align: top;\n",
              "    }\n",
              "\n",
              "    .dataframe thead th {\n",
              "        text-align: right;\n",
              "    }\n",
              "</style>\n",
              "<table border=\"1\" class=\"dataframe\">\n",
              "  <thead>\n",
              "    <tr style=\"text-align: right;\">\n",
              "      <th></th>\n",
              "      <th>HR</th>\n",
              "      <th>O2Sat</th>\n",
              "      <th>Temp</th>\n",
              "      <th>SBP</th>\n",
              "      <th>MAP</th>\n",
              "      <th>DBP</th>\n",
              "      <th>Resp</th>\n",
              "      <th>EtCO2</th>\n",
              "      <th>BaseExcess</th>\n",
              "      <th>HCO3</th>\n",
              "      <th>FiO2</th>\n",
              "      <th>pH</th>\n",
              "      <th>PaCO2</th>\n",
              "      <th>SaO2</th>\n",
              "      <th>AST</th>\n",
              "      <th>BUN</th>\n",
              "      <th>Alkalinephos</th>\n",
              "      <th>Calcium</th>\n",
              "      <th>Chloride</th>\n",
              "      <th>Creatinine</th>\n",
              "      <th>Bilirubin_direct</th>\n",
              "      <th>Glucose</th>\n",
              "      <th>Lactate</th>\n",
              "      <th>Magnesium</th>\n",
              "      <th>Phosphate</th>\n",
              "      <th>Potassium</th>\n",
              "      <th>Bilirubin_total</th>\n",
              "      <th>TroponinI</th>\n",
              "      <th>Hct</th>\n",
              "      <th>Hgb</th>\n",
              "      <th>PTT</th>\n",
              "      <th>WBC</th>\n",
              "      <th>Fibrinogen</th>\n",
              "      <th>Platelets</th>\n",
              "      <th>Age</th>\n",
              "      <th>Gender</th>\n",
              "      <th>Unit1</th>\n",
              "      <th>Unit2</th>\n",
              "      <th>HospAdmTime</th>\n",
              "      <th>ICULOS</th>\n",
              "      <th>SepsisLabel</th>\n",
              "      <th>Patient_Id</th>\n",
              "    </tr>\n",
              "  </thead>\n",
              "  <tbody>\n",
              "    <tr>\n",
              "      <th>0</th>\n",
              "      <td>NaN</td>\n",
              "      <td>NaN</td>\n",
              "      <td>NaN</td>\n",
              "      <td>NaN</td>\n",
              "      <td>NaN</td>\n",
              "      <td>NaN</td>\n",
              "      <td>NaN</td>\n",
              "      <td>NaN</td>\n",
              "      <td>NaN</td>\n",
              "      <td>NaN</td>\n",
              "      <td>NaN</td>\n",
              "      <td>NaN</td>\n",
              "      <td>NaN</td>\n",
              "      <td>NaN</td>\n",
              "      <td>NaN</td>\n",
              "      <td>NaN</td>\n",
              "      <td>NaN</td>\n",
              "      <td>NaN</td>\n",
              "      <td>NaN</td>\n",
              "      <td>NaN</td>\n",
              "      <td>NaN</td>\n",
              "      <td>NaN</td>\n",
              "      <td>NaN</td>\n",
              "      <td>NaN</td>\n",
              "      <td>NaN</td>\n",
              "      <td>NaN</td>\n",
              "      <td>NaN</td>\n",
              "      <td>NaN</td>\n",
              "      <td>NaN</td>\n",
              "      <td>NaN</td>\n",
              "      <td>NaN</td>\n",
              "      <td>NaN</td>\n",
              "      <td>NaN</td>\n",
              "      <td>NaN</td>\n",
              "      <td>66.33</td>\n",
              "      <td>1</td>\n",
              "      <td>1.0</td>\n",
              "      <td>0.0</td>\n",
              "      <td>-663.55</td>\n",
              "      <td>1</td>\n",
              "      <td>0</td>\n",
              "      <td>0</td>\n",
              "    </tr>\n",
              "    <tr>\n",
              "      <th>1</th>\n",
              "      <td>106.0</td>\n",
              "      <td>98.0</td>\n",
              "      <td>NaN</td>\n",
              "      <td>141.0</td>\n",
              "      <td>102.33</td>\n",
              "      <td>NaN</td>\n",
              "      <td>24.0</td>\n",
              "      <td>NaN</td>\n",
              "      <td>NaN</td>\n",
              "      <td>NaN</td>\n",
              "      <td>NaN</td>\n",
              "      <td>NaN</td>\n",
              "      <td>NaN</td>\n",
              "      <td>NaN</td>\n",
              "      <td>NaN</td>\n",
              "      <td>NaN</td>\n",
              "      <td>NaN</td>\n",
              "      <td>NaN</td>\n",
              "      <td>NaN</td>\n",
              "      <td>NaN</td>\n",
              "      <td>NaN</td>\n",
              "      <td>NaN</td>\n",
              "      <td>NaN</td>\n",
              "      <td>NaN</td>\n",
              "      <td>NaN</td>\n",
              "      <td>NaN</td>\n",
              "      <td>NaN</td>\n",
              "      <td>NaN</td>\n",
              "      <td>NaN</td>\n",
              "      <td>NaN</td>\n",
              "      <td>NaN</td>\n",
              "      <td>NaN</td>\n",
              "      <td>NaN</td>\n",
              "      <td>NaN</td>\n",
              "      <td>66.33</td>\n",
              "      <td>1</td>\n",
              "      <td>1.0</td>\n",
              "      <td>0.0</td>\n",
              "      <td>-663.55</td>\n",
              "      <td>2</td>\n",
              "      <td>0</td>\n",
              "      <td>0</td>\n",
              "    </tr>\n",
              "    <tr>\n",
              "      <th>2</th>\n",
              "      <td>109.0</td>\n",
              "      <td>94.0</td>\n",
              "      <td>NaN</td>\n",
              "      <td>144.0</td>\n",
              "      <td>82.00</td>\n",
              "      <td>NaN</td>\n",
              "      <td>23.0</td>\n",
              "      <td>NaN</td>\n",
              "      <td>NaN</td>\n",
              "      <td>NaN</td>\n",
              "      <td>NaN</td>\n",
              "      <td>NaN</td>\n",
              "      <td>NaN</td>\n",
              "      <td>NaN</td>\n",
              "      <td>NaN</td>\n",
              "      <td>NaN</td>\n",
              "      <td>NaN</td>\n",
              "      <td>NaN</td>\n",
              "      <td>NaN</td>\n",
              "      <td>NaN</td>\n",
              "      <td>NaN</td>\n",
              "      <td>NaN</td>\n",
              "      <td>NaN</td>\n",
              "      <td>NaN</td>\n",
              "      <td>NaN</td>\n",
              "      <td>NaN</td>\n",
              "      <td>NaN</td>\n",
              "      <td>NaN</td>\n",
              "      <td>NaN</td>\n",
              "      <td>NaN</td>\n",
              "      <td>NaN</td>\n",
              "      <td>NaN</td>\n",
              "      <td>NaN</td>\n",
              "      <td>NaN</td>\n",
              "      <td>66.33</td>\n",
              "      <td>1</td>\n",
              "      <td>1.0</td>\n",
              "      <td>0.0</td>\n",
              "      <td>-663.55</td>\n",
              "      <td>3</td>\n",
              "      <td>0</td>\n",
              "      <td>0</td>\n",
              "    </tr>\n",
              "    <tr>\n",
              "      <th>3</th>\n",
              "      <td>102.0</td>\n",
              "      <td>94.0</td>\n",
              "      <td>36.89</td>\n",
              "      <td>124.0</td>\n",
              "      <td>78.67</td>\n",
              "      <td>NaN</td>\n",
              "      <td>22.0</td>\n",
              "      <td>NaN</td>\n",
              "      <td>NaN</td>\n",
              "      <td>NaN</td>\n",
              "      <td>NaN</td>\n",
              "      <td>NaN</td>\n",
              "      <td>NaN</td>\n",
              "      <td>NaN</td>\n",
              "      <td>NaN</td>\n",
              "      <td>NaN</td>\n",
              "      <td>NaN</td>\n",
              "      <td>NaN</td>\n",
              "      <td>NaN</td>\n",
              "      <td>NaN</td>\n",
              "      <td>NaN</td>\n",
              "      <td>NaN</td>\n",
              "      <td>NaN</td>\n",
              "      <td>NaN</td>\n",
              "      <td>NaN</td>\n",
              "      <td>NaN</td>\n",
              "      <td>NaN</td>\n",
              "      <td>NaN</td>\n",
              "      <td>NaN</td>\n",
              "      <td>NaN</td>\n",
              "      <td>NaN</td>\n",
              "      <td>NaN</td>\n",
              "      <td>NaN</td>\n",
              "      <td>NaN</td>\n",
              "      <td>66.33</td>\n",
              "      <td>1</td>\n",
              "      <td>1.0</td>\n",
              "      <td>0.0</td>\n",
              "      <td>-663.55</td>\n",
              "      <td>4</td>\n",
              "      <td>0</td>\n",
              "      <td>0</td>\n",
              "    </tr>\n",
              "    <tr>\n",
              "      <th>4</th>\n",
              "      <td>95.0</td>\n",
              "      <td>97.0</td>\n",
              "      <td>NaN</td>\n",
              "      <td>120.0</td>\n",
              "      <td>73.33</td>\n",
              "      <td>NaN</td>\n",
              "      <td>21.0</td>\n",
              "      <td>NaN</td>\n",
              "      <td>NaN</td>\n",
              "      <td>NaN</td>\n",
              "      <td>NaN</td>\n",
              "      <td>NaN</td>\n",
              "      <td>NaN</td>\n",
              "      <td>NaN</td>\n",
              "      <td>NaN</td>\n",
              "      <td>NaN</td>\n",
              "      <td>NaN</td>\n",
              "      <td>NaN</td>\n",
              "      <td>NaN</td>\n",
              "      <td>NaN</td>\n",
              "      <td>NaN</td>\n",
              "      <td>NaN</td>\n",
              "      <td>NaN</td>\n",
              "      <td>NaN</td>\n",
              "      <td>NaN</td>\n",
              "      <td>NaN</td>\n",
              "      <td>NaN</td>\n",
              "      <td>NaN</td>\n",
              "      <td>NaN</td>\n",
              "      <td>NaN</td>\n",
              "      <td>NaN</td>\n",
              "      <td>NaN</td>\n",
              "      <td>NaN</td>\n",
              "      <td>NaN</td>\n",
              "      <td>66.33</td>\n",
              "      <td>1</td>\n",
              "      <td>1.0</td>\n",
              "      <td>0.0</td>\n",
              "      <td>-663.55</td>\n",
              "      <td>5</td>\n",
              "      <td>0</td>\n",
              "      <td>0</td>\n",
              "    </tr>\n",
              "  </tbody>\n",
              "</table>\n",
              "</div>"
            ],
            "text/plain": [
              "      HR  O2Sat   Temp    SBP  ...  HospAdmTime  ICULOS  SepsisLabel  Patient_Id\n",
              "0    NaN    NaN    NaN    NaN  ...      -663.55       1            0           0\n",
              "1  106.0   98.0    NaN  141.0  ...      -663.55       2            0           0\n",
              "2  109.0   94.0    NaN  144.0  ...      -663.55       3            0           0\n",
              "3  102.0   94.0  36.89  124.0  ...      -663.55       4            0           0\n",
              "4   95.0   97.0    NaN  120.0  ...      -663.55       5            0           0\n",
              "\n",
              "[5 rows x 42 columns]"
            ]
          },
          "metadata": {
            "tags": []
          },
          "execution_count": 4
        }
      ]
    },
    {
      "cell_type": "code",
      "metadata": {
        "id": "csPDHk4noUHa",
        "colab_type": "code",
        "outputId": "c69b9705-d483-4027-e265-222621aee228",
        "colab": {
          "base_uri": "https://localhost:8080/",
          "height": 35
        }
      },
      "source": [
        "dataset.shape"
      ],
      "execution_count": 5,
      "outputs": [
        {
          "output_type": "execute_result",
          "data": {
            "text/plain": [
              "(1552210, 42)"
            ]
          },
          "metadata": {
            "tags": []
          },
          "execution_count": 5
        }
      ]
    },
    {
      "cell_type": "code",
      "metadata": {
        "id": "yPX642FUpEBy",
        "colab_type": "code",
        "outputId": "8a173bd0-a2bb-4664-e9fb-aa6759c3a185",
        "colab": {
          "base_uri": "https://localhost:8080/",
          "height": 35
        }
      },
      "source": [
        "dataset.size"
      ],
      "execution_count": 6,
      "outputs": [
        {
          "output_type": "execute_result",
          "data": {
            "text/plain": [
              "65192820"
            ]
          },
          "metadata": {
            "tags": []
          },
          "execution_count": 6
        }
      ]
    },
    {
      "cell_type": "markdown",
      "metadata": {
        "id": "kZ2NufC1p-NK",
        "colab_type": "text"
      },
      "source": [
        "**Preparing Patient wise data**"
      ]
    },
    {
      "cell_type": "code",
      "metadata": {
        "id": "eA644U7VpGE7",
        "colab_type": "code",
        "colab": {}
      },
      "source": [
        "#Separating Patient ID,Sepsis Label form all the data \n",
        "features=dataset.drop(['SepsisLabel','Patient_Id'],axis=1)"
      ],
      "execution_count": 0,
      "outputs": []
    },
    {
      "cell_type": "code",
      "metadata": {
        "id": "Q2JL9TjLqIy-",
        "colab_type": "code",
        "outputId": "11912d1d-64fb-4d7c-91cf-1df2110596f4",
        "colab": {
          "base_uri": "https://localhost:8080/",
          "height": 222
        }
      },
      "source": [
        "features.head(5)"
      ],
      "execution_count": 8,
      "outputs": [
        {
          "output_type": "execute_result",
          "data": {
            "text/html": [
              "<div>\n",
              "<style scoped>\n",
              "    .dataframe tbody tr th:only-of-type {\n",
              "        vertical-align: middle;\n",
              "    }\n",
              "\n",
              "    .dataframe tbody tr th {\n",
              "        vertical-align: top;\n",
              "    }\n",
              "\n",
              "    .dataframe thead th {\n",
              "        text-align: right;\n",
              "    }\n",
              "</style>\n",
              "<table border=\"1\" class=\"dataframe\">\n",
              "  <thead>\n",
              "    <tr style=\"text-align: right;\">\n",
              "      <th></th>\n",
              "      <th>HR</th>\n",
              "      <th>O2Sat</th>\n",
              "      <th>Temp</th>\n",
              "      <th>SBP</th>\n",
              "      <th>MAP</th>\n",
              "      <th>DBP</th>\n",
              "      <th>Resp</th>\n",
              "      <th>EtCO2</th>\n",
              "      <th>BaseExcess</th>\n",
              "      <th>HCO3</th>\n",
              "      <th>FiO2</th>\n",
              "      <th>pH</th>\n",
              "      <th>PaCO2</th>\n",
              "      <th>SaO2</th>\n",
              "      <th>AST</th>\n",
              "      <th>BUN</th>\n",
              "      <th>Alkalinephos</th>\n",
              "      <th>Calcium</th>\n",
              "      <th>Chloride</th>\n",
              "      <th>Creatinine</th>\n",
              "      <th>Bilirubin_direct</th>\n",
              "      <th>Glucose</th>\n",
              "      <th>Lactate</th>\n",
              "      <th>Magnesium</th>\n",
              "      <th>Phosphate</th>\n",
              "      <th>Potassium</th>\n",
              "      <th>Bilirubin_total</th>\n",
              "      <th>TroponinI</th>\n",
              "      <th>Hct</th>\n",
              "      <th>Hgb</th>\n",
              "      <th>PTT</th>\n",
              "      <th>WBC</th>\n",
              "      <th>Fibrinogen</th>\n",
              "      <th>Platelets</th>\n",
              "      <th>Age</th>\n",
              "      <th>Gender</th>\n",
              "      <th>Unit1</th>\n",
              "      <th>Unit2</th>\n",
              "      <th>HospAdmTime</th>\n",
              "      <th>ICULOS</th>\n",
              "    </tr>\n",
              "  </thead>\n",
              "  <tbody>\n",
              "    <tr>\n",
              "      <th>0</th>\n",
              "      <td>NaN</td>\n",
              "      <td>NaN</td>\n",
              "      <td>NaN</td>\n",
              "      <td>NaN</td>\n",
              "      <td>NaN</td>\n",
              "      <td>NaN</td>\n",
              "      <td>NaN</td>\n",
              "      <td>NaN</td>\n",
              "      <td>NaN</td>\n",
              "      <td>NaN</td>\n",
              "      <td>NaN</td>\n",
              "      <td>NaN</td>\n",
              "      <td>NaN</td>\n",
              "      <td>NaN</td>\n",
              "      <td>NaN</td>\n",
              "      <td>NaN</td>\n",
              "      <td>NaN</td>\n",
              "      <td>NaN</td>\n",
              "      <td>NaN</td>\n",
              "      <td>NaN</td>\n",
              "      <td>NaN</td>\n",
              "      <td>NaN</td>\n",
              "      <td>NaN</td>\n",
              "      <td>NaN</td>\n",
              "      <td>NaN</td>\n",
              "      <td>NaN</td>\n",
              "      <td>NaN</td>\n",
              "      <td>NaN</td>\n",
              "      <td>NaN</td>\n",
              "      <td>NaN</td>\n",
              "      <td>NaN</td>\n",
              "      <td>NaN</td>\n",
              "      <td>NaN</td>\n",
              "      <td>NaN</td>\n",
              "      <td>66.33</td>\n",
              "      <td>1</td>\n",
              "      <td>1.0</td>\n",
              "      <td>0.0</td>\n",
              "      <td>-663.55</td>\n",
              "      <td>1</td>\n",
              "    </tr>\n",
              "    <tr>\n",
              "      <th>1</th>\n",
              "      <td>106.0</td>\n",
              "      <td>98.0</td>\n",
              "      <td>NaN</td>\n",
              "      <td>141.0</td>\n",
              "      <td>102.33</td>\n",
              "      <td>NaN</td>\n",
              "      <td>24.0</td>\n",
              "      <td>NaN</td>\n",
              "      <td>NaN</td>\n",
              "      <td>NaN</td>\n",
              "      <td>NaN</td>\n",
              "      <td>NaN</td>\n",
              "      <td>NaN</td>\n",
              "      <td>NaN</td>\n",
              "      <td>NaN</td>\n",
              "      <td>NaN</td>\n",
              "      <td>NaN</td>\n",
              "      <td>NaN</td>\n",
              "      <td>NaN</td>\n",
              "      <td>NaN</td>\n",
              "      <td>NaN</td>\n",
              "      <td>NaN</td>\n",
              "      <td>NaN</td>\n",
              "      <td>NaN</td>\n",
              "      <td>NaN</td>\n",
              "      <td>NaN</td>\n",
              "      <td>NaN</td>\n",
              "      <td>NaN</td>\n",
              "      <td>NaN</td>\n",
              "      <td>NaN</td>\n",
              "      <td>NaN</td>\n",
              "      <td>NaN</td>\n",
              "      <td>NaN</td>\n",
              "      <td>NaN</td>\n",
              "      <td>66.33</td>\n",
              "      <td>1</td>\n",
              "      <td>1.0</td>\n",
              "      <td>0.0</td>\n",
              "      <td>-663.55</td>\n",
              "      <td>2</td>\n",
              "    </tr>\n",
              "    <tr>\n",
              "      <th>2</th>\n",
              "      <td>109.0</td>\n",
              "      <td>94.0</td>\n",
              "      <td>NaN</td>\n",
              "      <td>144.0</td>\n",
              "      <td>82.00</td>\n",
              "      <td>NaN</td>\n",
              "      <td>23.0</td>\n",
              "      <td>NaN</td>\n",
              "      <td>NaN</td>\n",
              "      <td>NaN</td>\n",
              "      <td>NaN</td>\n",
              "      <td>NaN</td>\n",
              "      <td>NaN</td>\n",
              "      <td>NaN</td>\n",
              "      <td>NaN</td>\n",
              "      <td>NaN</td>\n",
              "      <td>NaN</td>\n",
              "      <td>NaN</td>\n",
              "      <td>NaN</td>\n",
              "      <td>NaN</td>\n",
              "      <td>NaN</td>\n",
              "      <td>NaN</td>\n",
              "      <td>NaN</td>\n",
              "      <td>NaN</td>\n",
              "      <td>NaN</td>\n",
              "      <td>NaN</td>\n",
              "      <td>NaN</td>\n",
              "      <td>NaN</td>\n",
              "      <td>NaN</td>\n",
              "      <td>NaN</td>\n",
              "      <td>NaN</td>\n",
              "      <td>NaN</td>\n",
              "      <td>NaN</td>\n",
              "      <td>NaN</td>\n",
              "      <td>66.33</td>\n",
              "      <td>1</td>\n",
              "      <td>1.0</td>\n",
              "      <td>0.0</td>\n",
              "      <td>-663.55</td>\n",
              "      <td>3</td>\n",
              "    </tr>\n",
              "    <tr>\n",
              "      <th>3</th>\n",
              "      <td>102.0</td>\n",
              "      <td>94.0</td>\n",
              "      <td>36.89</td>\n",
              "      <td>124.0</td>\n",
              "      <td>78.67</td>\n",
              "      <td>NaN</td>\n",
              "      <td>22.0</td>\n",
              "      <td>NaN</td>\n",
              "      <td>NaN</td>\n",
              "      <td>NaN</td>\n",
              "      <td>NaN</td>\n",
              "      <td>NaN</td>\n",
              "      <td>NaN</td>\n",
              "      <td>NaN</td>\n",
              "      <td>NaN</td>\n",
              "      <td>NaN</td>\n",
              "      <td>NaN</td>\n",
              "      <td>NaN</td>\n",
              "      <td>NaN</td>\n",
              "      <td>NaN</td>\n",
              "      <td>NaN</td>\n",
              "      <td>NaN</td>\n",
              "      <td>NaN</td>\n",
              "      <td>NaN</td>\n",
              "      <td>NaN</td>\n",
              "      <td>NaN</td>\n",
              "      <td>NaN</td>\n",
              "      <td>NaN</td>\n",
              "      <td>NaN</td>\n",
              "      <td>NaN</td>\n",
              "      <td>NaN</td>\n",
              "      <td>NaN</td>\n",
              "      <td>NaN</td>\n",
              "      <td>NaN</td>\n",
              "      <td>66.33</td>\n",
              "      <td>1</td>\n",
              "      <td>1.0</td>\n",
              "      <td>0.0</td>\n",
              "      <td>-663.55</td>\n",
              "      <td>4</td>\n",
              "    </tr>\n",
              "    <tr>\n",
              "      <th>4</th>\n",
              "      <td>95.0</td>\n",
              "      <td>97.0</td>\n",
              "      <td>NaN</td>\n",
              "      <td>120.0</td>\n",
              "      <td>73.33</td>\n",
              "      <td>NaN</td>\n",
              "      <td>21.0</td>\n",
              "      <td>NaN</td>\n",
              "      <td>NaN</td>\n",
              "      <td>NaN</td>\n",
              "      <td>NaN</td>\n",
              "      <td>NaN</td>\n",
              "      <td>NaN</td>\n",
              "      <td>NaN</td>\n",
              "      <td>NaN</td>\n",
              "      <td>NaN</td>\n",
              "      <td>NaN</td>\n",
              "      <td>NaN</td>\n",
              "      <td>NaN</td>\n",
              "      <td>NaN</td>\n",
              "      <td>NaN</td>\n",
              "      <td>NaN</td>\n",
              "      <td>NaN</td>\n",
              "      <td>NaN</td>\n",
              "      <td>NaN</td>\n",
              "      <td>NaN</td>\n",
              "      <td>NaN</td>\n",
              "      <td>NaN</td>\n",
              "      <td>NaN</td>\n",
              "      <td>NaN</td>\n",
              "      <td>NaN</td>\n",
              "      <td>NaN</td>\n",
              "      <td>NaN</td>\n",
              "      <td>NaN</td>\n",
              "      <td>66.33</td>\n",
              "      <td>1</td>\n",
              "      <td>1.0</td>\n",
              "      <td>0.0</td>\n",
              "      <td>-663.55</td>\n",
              "      <td>5</td>\n",
              "    </tr>\n",
              "  </tbody>\n",
              "</table>\n",
              "</div>"
            ],
            "text/plain": [
              "      HR  O2Sat   Temp    SBP  ...  Unit1  Unit2  HospAdmTime  ICULOS\n",
              "0    NaN    NaN    NaN    NaN  ...    1.0    0.0      -663.55       1\n",
              "1  106.0   98.0    NaN  141.0  ...    1.0    0.0      -663.55       2\n",
              "2  109.0   94.0    NaN  144.0  ...    1.0    0.0      -663.55       3\n",
              "3  102.0   94.0  36.89  124.0  ...    1.0    0.0      -663.55       4\n",
              "4   95.0   97.0    NaN  120.0  ...    1.0    0.0      -663.55       5\n",
              "\n",
              "[5 rows x 40 columns]"
            ]
          },
          "metadata": {
            "tags": []
          },
          "execution_count": 8
        }
      ]
    },
    {
      "cell_type": "code",
      "metadata": {
        "id": "ePFEUZokqWo3",
        "colab_type": "code",
        "outputId": "db4d22e7-1c8b-4fe5-f627-9ad6837d9f6b",
        "colab": {
          "base_uri": "https://localhost:8080/",
          "height": 35
        }
      },
      "source": [
        "features.shape"
      ],
      "execution_count": 9,
      "outputs": [
        {
          "output_type": "execute_result",
          "data": {
            "text/plain": [
              "(1552210, 40)"
            ]
          },
          "metadata": {
            "tags": []
          },
          "execution_count": 9
        }
      ]
    },
    {
      "cell_type": "code",
      "metadata": {
        "id": "cBbArkRZqLMq",
        "colab_type": "code",
        "outputId": "258a6da8-aa5d-4b14-98d4-386bf3bb4108",
        "colab": {
          "base_uri": "https://localhost:8080/",
          "height": 35
        }
      },
      "source": [
        "features.size"
      ],
      "execution_count": 10,
      "outputs": [
        {
          "output_type": "execute_result",
          "data": {
            "text/plain": [
              "62088400"
            ]
          },
          "metadata": {
            "tags": []
          },
          "execution_count": 10
        }
      ]
    },
    {
      "cell_type": "code",
      "metadata": {
        "id": "i-7QDRzDqblv",
        "colab_type": "code",
        "colab": {}
      },
      "source": [
        "#Finding the percentage of missing data from each Column\n",
        "missing=features.isnull().sum()*100/1552210"
      ],
      "execution_count": 0,
      "outputs": []
    },
    {
      "cell_type": "code",
      "metadata": {
        "id": "_pvpsb5-q_iI",
        "colab_type": "code",
        "outputId": "8fb475b8-0724-41b9-ebb1-f747ef947476",
        "colab": {
          "base_uri": "https://localhost:8080/",
          "height": 728
        }
      },
      "source": [
        "missing"
      ],
      "execution_count": 12,
      "outputs": [
        {
          "output_type": "execute_result",
          "data": {
            "text/plain": [
              "HR                   9.882619\n",
              "O2Sat               13.061119\n",
              "Temp                66.162697\n",
              "SBP                 14.576958\n",
              "MAP                 12.451279\n",
              "DBP                 31.345887\n",
              "Resp                15.354559\n",
              "EtCO2               96.286843\n",
              "BaseExcess          94.579020\n",
              "HCO3                95.810618\n",
              "FiO2                91.665754\n",
              "pH                  93.069688\n",
              "PaCO2               94.440121\n",
              "SaO2                96.549372\n",
              "AST                 98.377604\n",
              "BUN                 93.134434\n",
              "Alkalinephos        98.393194\n",
              "Calcium             94.116067\n",
              "Chloride            95.460279\n",
              "Creatinine          93.904433\n",
              "Bilirubin_direct    99.807371\n",
              "Glucose             82.894325\n",
              "Lactate             97.329872\n",
              "Magnesium           93.689578\n",
              "Phosphate           95.986303\n",
              "Potassium           90.689082\n",
              "Bilirubin_total     98.509158\n",
              "TroponinI           99.047745\n",
              "Hct                 91.145979\n",
              "Hgb                 92.617558\n",
              "PTT                 97.055875\n",
              "WBC                 93.593199\n",
              "Fibrinogen          99.340167\n",
              "Platelets           94.059502\n",
              "Age                  0.000000\n",
              "Gender               0.000000\n",
              "Unit1               39.425078\n",
              "Unit2               39.425078\n",
              "HospAdmTime          0.000515\n",
              "ICULOS               0.000000\n",
              "dtype: float64"
            ]
          },
          "metadata": {
            "tags": []
          },
          "execution_count": 12
        }
      ]
    },
    {
      "cell_type": "code",
      "metadata": {
        "id": "7ar98zoNrFZo",
        "colab_type": "code",
        "colab": {}
      },
      "source": [
        "cols=list(missing[missing<90].index)"
      ],
      "execution_count": 0,
      "outputs": []
    },
    {
      "cell_type": "code",
      "metadata": {
        "id": "h4x8vkPSqqlT",
        "colab_type": "code",
        "colab": {}
      },
      "source": [
        "#Dropping all the columns from features data which are 90% missing\n",
        "features=dataset[cols]"
      ],
      "execution_count": 0,
      "outputs": []
    },
    {
      "cell_type": "code",
      "metadata": {
        "id": "IiC5xuobrLIk",
        "colab_type": "code",
        "outputId": "80da3312-46ca-49e7-dab4-105fef71c6d2",
        "colab": {
          "base_uri": "https://localhost:8080/",
          "height": 202
        }
      },
      "source": [
        "features.head(5)"
      ],
      "execution_count": 15,
      "outputs": [
        {
          "output_type": "execute_result",
          "data": {
            "text/html": [
              "<div>\n",
              "<style scoped>\n",
              "    .dataframe tbody tr th:only-of-type {\n",
              "        vertical-align: middle;\n",
              "    }\n",
              "\n",
              "    .dataframe tbody tr th {\n",
              "        vertical-align: top;\n",
              "    }\n",
              "\n",
              "    .dataframe thead th {\n",
              "        text-align: right;\n",
              "    }\n",
              "</style>\n",
              "<table border=\"1\" class=\"dataframe\">\n",
              "  <thead>\n",
              "    <tr style=\"text-align: right;\">\n",
              "      <th></th>\n",
              "      <th>HR</th>\n",
              "      <th>O2Sat</th>\n",
              "      <th>Temp</th>\n",
              "      <th>SBP</th>\n",
              "      <th>MAP</th>\n",
              "      <th>DBP</th>\n",
              "      <th>Resp</th>\n",
              "      <th>Glucose</th>\n",
              "      <th>Age</th>\n",
              "      <th>Gender</th>\n",
              "      <th>Unit1</th>\n",
              "      <th>Unit2</th>\n",
              "      <th>HospAdmTime</th>\n",
              "      <th>ICULOS</th>\n",
              "    </tr>\n",
              "  </thead>\n",
              "  <tbody>\n",
              "    <tr>\n",
              "      <th>0</th>\n",
              "      <td>NaN</td>\n",
              "      <td>NaN</td>\n",
              "      <td>NaN</td>\n",
              "      <td>NaN</td>\n",
              "      <td>NaN</td>\n",
              "      <td>NaN</td>\n",
              "      <td>NaN</td>\n",
              "      <td>NaN</td>\n",
              "      <td>66.33</td>\n",
              "      <td>1</td>\n",
              "      <td>1.0</td>\n",
              "      <td>0.0</td>\n",
              "      <td>-663.55</td>\n",
              "      <td>1</td>\n",
              "    </tr>\n",
              "    <tr>\n",
              "      <th>1</th>\n",
              "      <td>106.0</td>\n",
              "      <td>98.0</td>\n",
              "      <td>NaN</td>\n",
              "      <td>141.0</td>\n",
              "      <td>102.33</td>\n",
              "      <td>NaN</td>\n",
              "      <td>24.0</td>\n",
              "      <td>NaN</td>\n",
              "      <td>66.33</td>\n",
              "      <td>1</td>\n",
              "      <td>1.0</td>\n",
              "      <td>0.0</td>\n",
              "      <td>-663.55</td>\n",
              "      <td>2</td>\n",
              "    </tr>\n",
              "    <tr>\n",
              "      <th>2</th>\n",
              "      <td>109.0</td>\n",
              "      <td>94.0</td>\n",
              "      <td>NaN</td>\n",
              "      <td>144.0</td>\n",
              "      <td>82.00</td>\n",
              "      <td>NaN</td>\n",
              "      <td>23.0</td>\n",
              "      <td>NaN</td>\n",
              "      <td>66.33</td>\n",
              "      <td>1</td>\n",
              "      <td>1.0</td>\n",
              "      <td>0.0</td>\n",
              "      <td>-663.55</td>\n",
              "      <td>3</td>\n",
              "    </tr>\n",
              "    <tr>\n",
              "      <th>3</th>\n",
              "      <td>102.0</td>\n",
              "      <td>94.0</td>\n",
              "      <td>36.89</td>\n",
              "      <td>124.0</td>\n",
              "      <td>78.67</td>\n",
              "      <td>NaN</td>\n",
              "      <td>22.0</td>\n",
              "      <td>NaN</td>\n",
              "      <td>66.33</td>\n",
              "      <td>1</td>\n",
              "      <td>1.0</td>\n",
              "      <td>0.0</td>\n",
              "      <td>-663.55</td>\n",
              "      <td>4</td>\n",
              "    </tr>\n",
              "    <tr>\n",
              "      <th>4</th>\n",
              "      <td>95.0</td>\n",
              "      <td>97.0</td>\n",
              "      <td>NaN</td>\n",
              "      <td>120.0</td>\n",
              "      <td>73.33</td>\n",
              "      <td>NaN</td>\n",
              "      <td>21.0</td>\n",
              "      <td>NaN</td>\n",
              "      <td>66.33</td>\n",
              "      <td>1</td>\n",
              "      <td>1.0</td>\n",
              "      <td>0.0</td>\n",
              "      <td>-663.55</td>\n",
              "      <td>5</td>\n",
              "    </tr>\n",
              "  </tbody>\n",
              "</table>\n",
              "</div>"
            ],
            "text/plain": [
              "      HR  O2Sat   Temp    SBP  ...  Unit1  Unit2  HospAdmTime  ICULOS\n",
              "0    NaN    NaN    NaN    NaN  ...    1.0    0.0      -663.55       1\n",
              "1  106.0   98.0    NaN  141.0  ...    1.0    0.0      -663.55       2\n",
              "2  109.0   94.0    NaN  144.0  ...    1.0    0.0      -663.55       3\n",
              "3  102.0   94.0  36.89  124.0  ...    1.0    0.0      -663.55       4\n",
              "4   95.0   97.0    NaN  120.0  ...    1.0    0.0      -663.55       5\n",
              "\n",
              "[5 rows x 14 columns]"
            ]
          },
          "metadata": {
            "tags": []
          },
          "execution_count": 15
        }
      ]
    },
    {
      "cell_type": "code",
      "metadata": {
        "id": "frAU-Bt1rPG3",
        "colab_type": "code",
        "outputId": "6dc3f6af-8fcd-40a9-dafd-8b497a981907",
        "colab": {
          "base_uri": "https://localhost:8080/",
          "height": 35
        }
      },
      "source": [
        "features.shape"
      ],
      "execution_count": 16,
      "outputs": [
        {
          "output_type": "execute_result",
          "data": {
            "text/plain": [
              "(1552210, 14)"
            ]
          },
          "metadata": {
            "tags": []
          },
          "execution_count": 16
        }
      ]
    },
    {
      "cell_type": "code",
      "metadata": {
        "id": "IqYI18nlrYF1",
        "colab_type": "code",
        "outputId": "65f2abc3-c9d8-4da6-c6a8-810fd307c004",
        "colab": {
          "base_uri": "https://localhost:8080/",
          "height": 35
        }
      },
      "source": [
        "features.size"
      ],
      "execution_count": 17,
      "outputs": [
        {
          "output_type": "execute_result",
          "data": {
            "text/plain": [
              "21730940"
            ]
          },
          "metadata": {
            "tags": []
          },
          "execution_count": 17
        }
      ]
    },
    {
      "cell_type": "code",
      "metadata": {
        "id": "ctHUjVCNrZU6",
        "colab_type": "code",
        "colab": {}
      },
      "source": [
        "#Dropping HospAdmTime and ICULOS\n",
        "features=features.drop(['HospAdmTime','ICULOS'],axis=1)"
      ],
      "execution_count": 0,
      "outputs": []
    },
    {
      "cell_type": "code",
      "metadata": {
        "id": "PojpWS6-rmSR",
        "colab_type": "code",
        "colab": {}
      },
      "source": [
        "#Filling the data with mean\n",
        "features=features.fillna(features.mean())"
      ],
      "execution_count": 0,
      "outputs": []
    },
    {
      "cell_type": "code",
      "metadata": {
        "id": "m_uUePEbrufg",
        "colab_type": "code",
        "outputId": "c9ed8718-835c-43ac-9260-b87adc6282e0",
        "colab": {
          "base_uri": "https://localhost:8080/",
          "height": 202
        }
      },
      "source": [
        "features.head(5)"
      ],
      "execution_count": 20,
      "outputs": [
        {
          "output_type": "execute_result",
          "data": {
            "text/html": [
              "<div>\n",
              "<style scoped>\n",
              "    .dataframe tbody tr th:only-of-type {\n",
              "        vertical-align: middle;\n",
              "    }\n",
              "\n",
              "    .dataframe tbody tr th {\n",
              "        vertical-align: top;\n",
              "    }\n",
              "\n",
              "    .dataframe thead th {\n",
              "        text-align: right;\n",
              "    }\n",
              "</style>\n",
              "<table border=\"1\" class=\"dataframe\">\n",
              "  <thead>\n",
              "    <tr style=\"text-align: right;\">\n",
              "      <th></th>\n",
              "      <th>HR</th>\n",
              "      <th>O2Sat</th>\n",
              "      <th>Temp</th>\n",
              "      <th>SBP</th>\n",
              "      <th>MAP</th>\n",
              "      <th>DBP</th>\n",
              "      <th>Resp</th>\n",
              "      <th>Glucose</th>\n",
              "      <th>Age</th>\n",
              "      <th>Gender</th>\n",
              "      <th>Unit1</th>\n",
              "      <th>Unit2</th>\n",
              "    </tr>\n",
              "  </thead>\n",
              "  <tbody>\n",
              "    <tr>\n",
              "      <th>0</th>\n",
              "      <td>84.581443</td>\n",
              "      <td>97.193955</td>\n",
              "      <td>36.977228</td>\n",
              "      <td>123.750465</td>\n",
              "      <td>82.4001</td>\n",
              "      <td>63.830556</td>\n",
              "      <td>18.726498</td>\n",
              "      <td>136.932283</td>\n",
              "      <td>66.33</td>\n",
              "      <td>1</td>\n",
              "      <td>1.0</td>\n",
              "      <td>0.0</td>\n",
              "    </tr>\n",
              "    <tr>\n",
              "      <th>1</th>\n",
              "      <td>106.000000</td>\n",
              "      <td>98.000000</td>\n",
              "      <td>36.977228</td>\n",
              "      <td>141.000000</td>\n",
              "      <td>102.3300</td>\n",
              "      <td>63.830556</td>\n",
              "      <td>24.000000</td>\n",
              "      <td>136.932283</td>\n",
              "      <td>66.33</td>\n",
              "      <td>1</td>\n",
              "      <td>1.0</td>\n",
              "      <td>0.0</td>\n",
              "    </tr>\n",
              "    <tr>\n",
              "      <th>2</th>\n",
              "      <td>109.000000</td>\n",
              "      <td>94.000000</td>\n",
              "      <td>36.977228</td>\n",
              "      <td>144.000000</td>\n",
              "      <td>82.0000</td>\n",
              "      <td>63.830556</td>\n",
              "      <td>23.000000</td>\n",
              "      <td>136.932283</td>\n",
              "      <td>66.33</td>\n",
              "      <td>1</td>\n",
              "      <td>1.0</td>\n",
              "      <td>0.0</td>\n",
              "    </tr>\n",
              "    <tr>\n",
              "      <th>3</th>\n",
              "      <td>102.000000</td>\n",
              "      <td>94.000000</td>\n",
              "      <td>36.890000</td>\n",
              "      <td>124.000000</td>\n",
              "      <td>78.6700</td>\n",
              "      <td>63.830556</td>\n",
              "      <td>22.000000</td>\n",
              "      <td>136.932283</td>\n",
              "      <td>66.33</td>\n",
              "      <td>1</td>\n",
              "      <td>1.0</td>\n",
              "      <td>0.0</td>\n",
              "    </tr>\n",
              "    <tr>\n",
              "      <th>4</th>\n",
              "      <td>95.000000</td>\n",
              "      <td>97.000000</td>\n",
              "      <td>36.977228</td>\n",
              "      <td>120.000000</td>\n",
              "      <td>73.3300</td>\n",
              "      <td>63.830556</td>\n",
              "      <td>21.000000</td>\n",
              "      <td>136.932283</td>\n",
              "      <td>66.33</td>\n",
              "      <td>1</td>\n",
              "      <td>1.0</td>\n",
              "      <td>0.0</td>\n",
              "    </tr>\n",
              "  </tbody>\n",
              "</table>\n",
              "</div>"
            ],
            "text/plain": [
              "           HR      O2Sat       Temp         SBP  ...    Age  Gender  Unit1  Unit2\n",
              "0   84.581443  97.193955  36.977228  123.750465  ...  66.33       1    1.0    0.0\n",
              "1  106.000000  98.000000  36.977228  141.000000  ...  66.33       1    1.0    0.0\n",
              "2  109.000000  94.000000  36.977228  144.000000  ...  66.33       1    1.0    0.0\n",
              "3  102.000000  94.000000  36.890000  124.000000  ...  66.33       1    1.0    0.0\n",
              "4   95.000000  97.000000  36.977228  120.000000  ...  66.33       1    1.0    0.0\n",
              "\n",
              "[5 rows x 12 columns]"
            ]
          },
          "metadata": {
            "tags": []
          },
          "execution_count": 20
        }
      ]
    },
    {
      "cell_type": "code",
      "metadata": {
        "id": "8YKhvNFbrw-b",
        "colab_type": "code",
        "colab": {}
      },
      "source": [
        "#Converting the DataFrame to array\n",
        "featurearr=features.iloc[:,:].values"
      ],
      "execution_count": 0,
      "outputs": []
    },
    {
      "cell_type": "code",
      "metadata": {
        "id": "PytlGJ8Yr7Oh",
        "colab_type": "code",
        "colab": {}
      },
      "source": [
        "label=dataset[['SepsisLabel',\"Patient_Id\"]]"
      ],
      "execution_count": 0,
      "outputs": []
    },
    {
      "cell_type": "code",
      "metadata": {
        "id": "wImxQuNCr9Rd",
        "colab_type": "code",
        "outputId": "a8479c30-188c-48f7-e042-2b5568be3e2b",
        "colab": {
          "base_uri": "https://localhost:8080/",
          "height": 35
        }
      },
      "source": [
        "label.shape"
      ],
      "execution_count": 23,
      "outputs": [
        {
          "output_type": "execute_result",
          "data": {
            "text/plain": [
              "(1552210, 2)"
            ]
          },
          "metadata": {
            "tags": []
          },
          "execution_count": 23
        }
      ]
    },
    {
      "cell_type": "code",
      "metadata": {
        "id": "RqNkgyYIsYpR",
        "colab_type": "code",
        "outputId": "b227b7cb-4b50-4b06-e112-15388ef29c3d",
        "colab": {
          "base_uri": "https://localhost:8080/",
          "height": 35
        }
      },
      "source": [
        "featurearr.shape"
      ],
      "execution_count": 24,
      "outputs": [
        {
          "output_type": "execute_result",
          "data": {
            "text/plain": [
              "(1552210, 12)"
            ]
          },
          "metadata": {
            "tags": []
          },
          "execution_count": 24
        }
      ]
    },
    {
      "cell_type": "code",
      "metadata": {
        "id": "3ydl3qvLsbk2",
        "colab_type": "code",
        "colab": {}
      },
      "source": [
        "yarr=label.iloc[:].values"
      ],
      "execution_count": 0,
      "outputs": []
    },
    {
      "cell_type": "code",
      "metadata": {
        "id": "EQN--8yRssry",
        "colab_type": "code",
        "colab": {}
      },
      "source": [
        "patientid=dataset['Patient_Id'].values.tolist()"
      ],
      "execution_count": 0,
      "outputs": []
    },
    {
      "cell_type": "code",
      "metadata": {
        "id": "R_jVaag9su0s",
        "colab_type": "code",
        "colab": {}
      },
      "source": [
        "#Appending Hourly data of each patient to single row\n",
        "c=0\n",
        "ip=[]\n",
        "yp=[]\n",
        "seq=[]\n",
        "index=0\n",
        "for i in range(len(patientid)):\n",
        "  if i==0:\n",
        "    seq+=featurearr[index].tolist()\n",
        "    index+=1\n",
        "    continue\n",
        "  if patientid[i]!=patientid[i-1]:\n",
        "    ip.append(seq)\n",
        "    yp+=[yarr[i-1,0]]\n",
        "    seq=[]\n",
        "  if yarr[i,0]==0:\n",
        "    seq+=featurearr[index].tolist()\n",
        "  elif yarr[i,0]==1 and patientid[i-1]!=patientid[i]:\n",
        "    seq+=featurearr[index].tolist()\n",
        "  index+=1\n",
        "ip.append(seq)\n",
        "yp+=[yarr[i-1,0]]"
      ],
      "execution_count": 0,
      "outputs": []
    },
    {
      "cell_type": "code",
      "metadata": {
        "id": "Kc6gAd_Rs5U5",
        "colab_type": "code",
        "outputId": "eca7fcc5-9dbc-4e16-96b2-d1660f10eab9",
        "colab": {
          "base_uri": "https://localhost:8080/",
          "height": 35
        }
      },
      "source": [
        "m=0\n",
        "for i in yp:\n",
        "    if i==1:\n",
        "        m+=1\n",
        "print('Number of Patients Diagnosed With Sepsis is ',m)"
      ],
      "execution_count": 28,
      "outputs": [
        {
          "output_type": "stream",
          "text": [
            "Number of Patients Diagnosed With Sepsis is  2932\n"
          ],
          "name": "stdout"
        }
      ]
    },
    {
      "cell_type": "code",
      "metadata": {
        "id": "EGEg3b52tFOW",
        "colab_type": "code",
        "outputId": "e59a64d3-a8a8-4993-ac75-77b2a8fe1b57",
        "colab": {
          "base_uri": "https://localhost:8080/",
          "height": 35
        }
      },
      "source": [
        "max=0\n",
        "for i in ip:\n",
        "    if max<len(i):\n",
        "        max=len(i)\n",
        "print('Max length of row',max) #No Of Hours for each patient are not same"
      ],
      "execution_count": 29,
      "outputs": [
        {
          "output_type": "stream",
          "text": [
            "Max length of row 4032\n"
          ],
          "name": "stdout"
        }
      ]
    },
    {
      "cell_type": "code",
      "metadata": {
        "id": "9-VM8wv4tPwC",
        "colab_type": "code",
        "colab": {}
      },
      "source": [
        "#Feature Data\n",
        "x=np.array(ip)"
      ],
      "execution_count": 0,
      "outputs": []
    },
    {
      "cell_type": "code",
      "metadata": {
        "id": "-aPd_315tlK_",
        "colab_type": "code",
        "colab": {}
      },
      "source": [
        "#Labels\n",
        "y=np.array(yp)"
      ],
      "execution_count": 0,
      "outputs": []
    },
    {
      "cell_type": "code",
      "metadata": {
        "id": "J65YOuZ4wiAm",
        "colab_type": "code",
        "colab": {
          "base_uri": "https://localhost:8080/",
          "height": 35
        },
        "outputId": "f6549750-8c88-48f5-f2d0-8ab3a56333ae"
      },
      "source": [
        "#Making the data Categorical data\n",
        "from keras.utils import to_categorical\n",
        "y=to_categorical(y)"
      ],
      "execution_count": 32,
      "outputs": [
        {
          "output_type": "stream",
          "text": [
            "Using TensorFlow backend.\n"
          ],
          "name": "stderr"
        }
      ]
    },
    {
      "cell_type": "code",
      "metadata": {
        "id": "bhgxaoRVto5i",
        "colab_type": "code",
        "colab": {}
      },
      "source": [
        "from keras.preprocessing import sequence\n",
        "#No Of Hours for each patient are not same.So we pad zeros in the beginning\n",
        "x = sequence.pad_sequences(x, maxlen=4032)"
      ],
      "execution_count": 0,
      "outputs": []
    },
    {
      "cell_type": "code",
      "metadata": {
        "id": "0XyXcdeCt6sj",
        "colab_type": "code",
        "outputId": "d57ebb1d-793f-447f-bf3f-7838404696d9",
        "colab": {
          "base_uri": "https://localhost:8080/",
          "height": 35
        }
      },
      "source": [
        "x.shape"
      ],
      "execution_count": 34,
      "outputs": [
        {
          "output_type": "execute_result",
          "data": {
            "text/plain": [
              "(40336, 4032)"
            ]
          },
          "metadata": {
            "tags": []
          },
          "execution_count": 34
        }
      ]
    },
    {
      "cell_type": "markdown",
      "metadata": {
        "id": "aOsljpQi2OM0",
        "colab_type": "text"
      },
      "source": [
        "USING KFOLD Cross Validation"
      ]
    },
    {
      "cell_type": "code",
      "metadata": {
        "id": "zES8hpXu0a_C",
        "colab_type": "code",
        "colab": {}
      },
      "source": [
        "from sklearn.metrics import confusion_matrix\n",
        "from sklearn.model_selection import KFold\n",
        "from keras.models import Sequential\n",
        "from keras.layers import Dense, Conv1D, MaxPooling1D, Flatten\n",
        "from keras.layers import LSTM\n",
        "from keras.layers.embeddings import Embedding\n",
        "from sklearn.metrics import accuracy_score"
      ],
      "execution_count": 0,
      "outputs": []
    },
    {
      "cell_type": "code",
      "metadata": {
        "id": "jrPjlhUA078W",
        "colab_type": "code",
        "colab": {
          "base_uri": "https://localhost:8080/",
          "height": 520
        },
        "outputId": "4ed5e329-f0fa-4ef8-fb30-a5d6c9f9612e"
      },
      "source": [
        "embedding_vecor_length = 32\n",
        "model1 = Sequential()\n",
        "model1.add(Embedding(1000, embedding_vecor_length, input_length=4032))\n",
        "model1.add(Conv1D(filters=64, kernel_size=3, padding='same', activation='relu'))\n",
        "model1.add(MaxPooling1D(pool_size=2))\n",
        "model1.add(Conv1D(filters=64, kernel_size=3, padding='same', activation='relu'))\n",
        "model1.add(MaxPooling1D(pool_size=2))\n",
        "model1.add(Conv1D(filters=64, kernel_size=3, padding='same', activation='relu'))\n",
        "model1.add(MaxPooling1D(pool_size=2))\n",
        "model1.add(Flatten())\n",
        "model1.add(Dense(128, activation='relu'))\n",
        "model1.add(Dense(2, activation='softmax'))\n",
        "model1.compile(loss='categorical_crossentropy', optimizer='adam', metrics=['accuracy'])\n",
        "print(model1.summary())"
      ],
      "execution_count": 36,
      "outputs": [
        {
          "output_type": "stream",
          "text": [
            "Model: \"sequential_1\"\n",
            "_________________________________________________________________\n",
            "Layer (type)                 Output Shape              Param #   \n",
            "=================================================================\n",
            "embedding_1 (Embedding)      (None, 4032, 32)          32000     \n",
            "_________________________________________________________________\n",
            "conv1d_1 (Conv1D)            (None, 4032, 64)          6208      \n",
            "_________________________________________________________________\n",
            "max_pooling1d_1 (MaxPooling1 (None, 2016, 64)          0         \n",
            "_________________________________________________________________\n",
            "conv1d_2 (Conv1D)            (None, 2016, 64)          12352     \n",
            "_________________________________________________________________\n",
            "max_pooling1d_2 (MaxPooling1 (None, 1008, 64)          0         \n",
            "_________________________________________________________________\n",
            "conv1d_3 (Conv1D)            (None, 1008, 64)          12352     \n",
            "_________________________________________________________________\n",
            "max_pooling1d_3 (MaxPooling1 (None, 504, 64)           0         \n",
            "_________________________________________________________________\n",
            "flatten_1 (Flatten)          (None, 32256)             0         \n",
            "_________________________________________________________________\n",
            "dense_1 (Dense)              (None, 128)               4128896   \n",
            "_________________________________________________________________\n",
            "dense_2 (Dense)              (None, 2)                 258       \n",
            "=================================================================\n",
            "Total params: 4,192,066\n",
            "Trainable params: 4,192,066\n",
            "Non-trainable params: 0\n",
            "_________________________________________________________________\n",
            "None\n"
          ],
          "name": "stdout"
        }
      ]
    },
    {
      "cell_type": "code",
      "metadata": {
        "id": "ULaCkggE1FM7",
        "colab_type": "code",
        "colab": {
          "base_uri": "https://localhost:8080/",
          "height": 1000
        },
        "outputId": "6e29800c-057e-45f6-cac4-2957f2a154f1"
      },
      "source": [
        "kf = KFold(n_splits = 3, shuffle = True)\n",
        "scores=[]\n",
        "for i in range(3):\n",
        "    result = next(kf.split(x), None)\n",
        "    x_train = x[result[0]]\n",
        "    x_test = x[result[1]]\n",
        "    y_train = y[result[0]]\n",
        "    y_test = y[result[1]]\n",
        "    # model1.compile(loss='categorical_crossentropy', optimizer='adam', metrics=['accuracy'])\n",
        "    model1.fit(x_train, y_train, validation_data=(x_test, y_test), epochs=10, batch_size=128)\n",
        "    y_pred=model1.predict(x_test)\n",
        "    y_pred1=np.round(y_pred)\n",
        "    ypred=[]\n",
        "    for i in y_pred1:\n",
        "      if i[0]==0:\n",
        "        ypred.append(1)\n",
        "      else:\n",
        "        ypred.append(0)\n",
        "    ytest=[]\n",
        "    for i in y_test:\n",
        "      if i[0]==0:\n",
        "        ytest.append(1)\n",
        "      else:\n",
        "        ytest.append(0)\n",
        "    print(confusion_matrix(ytest,ypred))\n",
        "    scores.append(accuracy_score(ytest,ypred))\n",
        "print('Scores from each Iteration: ', scores)\n",
        "print('Average K-Fold Score :' , np.mean(scores))"
      ],
      "execution_count": 38,
      "outputs": [
        {
          "output_type": "stream",
          "text": [
            "Train on 26890 samples, validate on 13446 samples\n",
            "Epoch 1/10\n",
            "26890/26890 [==============================] - 422s 16ms/step - loss: 0.1398 - accuracy: 0.9640 - val_loss: 0.1479 - val_accuracy: 0.9609\n",
            "Epoch 2/10\n",
            "26890/26890 [==============================] - 422s 16ms/step - loss: 0.1289 - accuracy: 0.9653 - val_loss: 0.1497 - val_accuracy: 0.9617\n",
            "Epoch 3/10\n",
            "26890/26890 [==============================] - 419s 16ms/step - loss: 0.1195 - accuracy: 0.9658 - val_loss: 0.1441 - val_accuracy: 0.9616\n",
            "Epoch 4/10\n",
            "26890/26890 [==============================] - 421s 16ms/step - loss: 0.1134 - accuracy: 0.9669 - val_loss: 0.1405 - val_accuracy: 0.9619\n",
            "Epoch 5/10\n",
            "26890/26890 [==============================] - 421s 16ms/step - loss: 0.1051 - accuracy: 0.9685 - val_loss: 0.1391 - val_accuracy: 0.9615\n",
            "Epoch 6/10\n",
            "26890/26890 [==============================] - 423s 16ms/step - loss: 0.0942 - accuracy: 0.9711 - val_loss: 0.1495 - val_accuracy: 0.9565\n",
            "Epoch 7/10\n",
            "26890/26890 [==============================] - 423s 16ms/step - loss: 0.0809 - accuracy: 0.9743 - val_loss: 0.1554 - val_accuracy: 0.9584\n",
            "Epoch 8/10\n",
            "26890/26890 [==============================] - 422s 16ms/step - loss: 0.0608 - accuracy: 0.9803 - val_loss: 0.1956 - val_accuracy: 0.9586\n",
            "Epoch 9/10\n",
            "26890/26890 [==============================] - 421s 16ms/step - loss: 0.0413 - accuracy: 0.9863 - val_loss: 0.2111 - val_accuracy: 0.9477\n",
            "Epoch 10/10\n",
            "26890/26890 [==============================] - 425s 16ms/step - loss: 0.0254 - accuracy: 0.9910 - val_loss: 0.2721 - val_accuracy: 0.9555\n",
            "[[12288   154]\n",
            " [  444   560]]\n",
            "Train on 26890 samples, validate on 13446 samples\n",
            "Epoch 1/10\n",
            "26890/26890 [==============================] - 408s 15ms/step - loss: 0.0869 - accuracy: 0.9774 - val_loss: 0.0838 - val_accuracy: 0.9786\n",
            "Epoch 2/10\n",
            "26890/26890 [==============================] - 409s 15ms/step - loss: 0.0549 - accuracy: 0.9849 - val_loss: 0.0893 - val_accuracy: 0.9766\n",
            "Epoch 3/10\n",
            "26890/26890 [==============================] - 414s 15ms/step - loss: 0.0328 - accuracy: 0.9902 - val_loss: 0.1035 - val_accuracy: 0.9729\n",
            "Epoch 4/10\n",
            "26890/26890 [==============================] - 408s 15ms/step - loss: 0.0148 - accuracy: 0.9956 - val_loss: 0.1422 - val_accuracy: 0.9724\n",
            "Epoch 5/10\n",
            "26890/26890 [==============================] - 413s 15ms/step - loss: 0.0104 - accuracy: 0.9968 - val_loss: 0.1341 - val_accuracy: 0.9688\n",
            "Epoch 6/10\n",
            "26890/26890 [==============================] - 415s 15ms/step - loss: 0.0107 - accuracy: 0.9966 - val_loss: 0.1779 - val_accuracy: 0.9720\n",
            "Epoch 7/10\n",
            "26890/26890 [==============================] - 410s 15ms/step - loss: 0.0093 - accuracy: 0.9967 - val_loss: 0.1835 - val_accuracy: 0.9705\n",
            "Epoch 8/10\n",
            "26890/26890 [==============================] - 412s 15ms/step - loss: 0.0094 - accuracy: 0.9968 - val_loss: 0.1950 - val_accuracy: 0.9700\n",
            "Epoch 9/10\n",
            "26890/26890 [==============================] - 412s 15ms/step - loss: 0.0177 - accuracy: 0.9935 - val_loss: 0.1941 - val_accuracy: 0.9676\n",
            "Epoch 10/10\n",
            "26890/26890 [==============================] - 410s 15ms/step - loss: 0.0110 - accuracy: 0.9964 - val_loss: 0.2112 - val_accuracy: 0.9665\n",
            "[[12281   187]\n",
            " [  264   714]]\n",
            "Train on 26890 samples, validate on 13446 samples\n",
            "Epoch 1/10\n",
            "26890/26890 [==============================] - 415s 15ms/step - loss: 0.0642 - accuracy: 0.9845 - val_loss: 0.0529 - val_accuracy: 0.9867\n",
            "Epoch 2/10\n",
            "26890/26890 [==============================] - 420s 16ms/step - loss: 0.0247 - accuracy: 0.9939 - val_loss: 0.0528 - val_accuracy: 0.9868\n",
            "Epoch 3/10\n",
            "26890/26890 [==============================] - 416s 15ms/step - loss: 0.0083 - accuracy: 0.9978 - val_loss: 0.0546 - val_accuracy: 0.9865\n",
            "Epoch 4/10\n",
            "26890/26890 [==============================] - 416s 15ms/step - loss: 0.0023 - accuracy: 0.9996 - val_loss: 0.0698 - val_accuracy: 0.9872\n",
            "Epoch 5/10\n",
            "26890/26890 [==============================] - 420s 16ms/step - loss: 5.5407e-04 - accuracy: 1.0000 - val_loss: 0.0728 - val_accuracy: 0.9874\n",
            "Epoch 6/10\n",
            "26890/26890 [==============================] - 416s 15ms/step - loss: 1.9680e-04 - accuracy: 1.0000 - val_loss: 0.0777 - val_accuracy: 0.9876\n",
            "Epoch 7/10\n",
            "26890/26890 [==============================] - 416s 15ms/step - loss: 1.2036e-04 - accuracy: 1.0000 - val_loss: 0.0820 - val_accuracy: 0.9879\n",
            "Epoch 8/10\n",
            "26890/26890 [==============================] - 422s 16ms/step - loss: 8.9164e-05 - accuracy: 1.0000 - val_loss: 0.0843 - val_accuracy: 0.9878\n",
            "Epoch 9/10\n",
            "26890/26890 [==============================] - 423s 16ms/step - loss: 6.7534e-05 - accuracy: 1.0000 - val_loss: 0.0868 - val_accuracy: 0.9877\n",
            "Epoch 10/10\n",
            "26890/26890 [==============================] - 425s 16ms/step - loss: 5.2676e-05 - accuracy: 1.0000 - val_loss: 0.0894 - val_accuracy: 0.9877\n",
            "[[12465    48]\n",
            " [  118   815]]\n",
            "Scores from each Iteration:  [0.9555258069314294, 0.9664584262977838, 0.9876543209876543]\n",
            "Average K-Fold Score : 0.9698795180722891\n"
          ],
          "name": "stdout"
        }
      ]
    },
    {
      "cell_type": "code",
      "metadata": {
        "id": "o1LmGuVm1Rpd",
        "colab_type": "code",
        "colab": {}
      },
      "source": [
        "scores"
      ],
      "execution_count": 0,
      "outputs": []
    }
  ]
}